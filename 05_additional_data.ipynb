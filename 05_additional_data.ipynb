{
 "cells": [
  {
   "cell_type": "markdown",
   "id": "9d6f0e50-10ee-4039-8d15-ca9eefce1316",
   "metadata": {},
   "source": [
    "# Project 02 - Data Processing\n",
    "\n",
    "## Step 5 - Additional Data"
   ]
  },
  {
   "cell_type": "code",
   "execution_count": 1,
   "id": "6a98544f-5077-4376-b637-c9551625d073",
   "metadata": {},
   "outputs": [
    {
     "data": {
      "text/plain": [
       "'1.2.5'"
      ]
     },
     "execution_count": 1,
     "metadata": {},
     "output_type": "execute_result"
    }
   ],
   "source": [
    "import datetime\n",
    "import numpy as np\n",
    "import pandas as pd\n",
    "pd.__version__"
   ]
  },
  {
   "cell_type": "code",
   "execution_count": 2,
   "id": "a827bf59-c96d-45d2-b78b-3981783783b2",
   "metadata": {},
   "outputs": [],
   "source": [
    "BASE_PATH = \"./data/jh_covid19/csse_covid_19_data/csse_covid_19_daily_reports/\"\n",
    "BASE_PATH_WB = \"./data/world_bank/\"\n",
    "BASE_PATH_WHO = \"./data/who/\"\n",
    "BASE_PATH_OUT = \"./data/output/\""
   ]
  },
  {
   "cell_type": "code",
   "execution_count": 3,
   "id": "03dfb127-b1db-4ae4-b1e9-4c2eaa71bff1",
   "metadata": {},
   "outputs": [
    {
     "data": {
      "text/html": [
       "<div>\n",
       "<style scoped>\n",
       "    .dataframe tbody tr th:only-of-type {\n",
       "        vertical-align: middle;\n",
       "    }\n",
       "\n",
       "    .dataframe tbody tr th {\n",
       "        vertical-align: top;\n",
       "    }\n",
       "\n",
       "    .dataframe thead th {\n",
       "        text-align: right;\n",
       "    }\n",
       "</style>\n",
       "<table border=\"1\" class=\"dataframe\">\n",
       "  <thead>\n",
       "    <tr style=\"text-align: right;\">\n",
       "      <th></th>\n",
       "      <th>Country Code</th>\n",
       "      <th>Short Name</th>\n",
       "      <th>Table Name</th>\n",
       "      <th>Long Name</th>\n",
       "      <th>2-alpha code</th>\n",
       "      <th>Currency Unit</th>\n",
       "      <th>Special Notes</th>\n",
       "      <th>Region</th>\n",
       "      <th>Income Group</th>\n",
       "      <th>WB-2 code</th>\n",
       "      <th>...</th>\n",
       "      <th>Government Accounting concept</th>\n",
       "      <th>IMF data dissemination standard</th>\n",
       "      <th>Latest population census</th>\n",
       "      <th>Latest household survey</th>\n",
       "      <th>Source of most recent Income and expenditure data</th>\n",
       "      <th>Vital registration complete</th>\n",
       "      <th>Latest agricultural census</th>\n",
       "      <th>Latest industrial data</th>\n",
       "      <th>Latest trade data</th>\n",
       "      <th>Unnamed: 30</th>\n",
       "    </tr>\n",
       "  </thead>\n",
       "  <tbody>\n",
       "    <tr>\n",
       "      <th>0</th>\n",
       "      <td>ABW</td>\n",
       "      <td>Aruba</td>\n",
       "      <td>Aruba</td>\n",
       "      <td>Aruba</td>\n",
       "      <td>AW</td>\n",
       "      <td>Aruban florin</td>\n",
       "      <td>NaN</td>\n",
       "      <td>Latin America &amp; Caribbean</td>\n",
       "      <td>High income</td>\n",
       "      <td>AW</td>\n",
       "      <td>...</td>\n",
       "      <td>NaN</td>\n",
       "      <td>Enhanced General Data Dissemination System (e-...</td>\n",
       "      <td>2020 (expected)</td>\n",
       "      <td>NaN</td>\n",
       "      <td>NaN</td>\n",
       "      <td>Yes</td>\n",
       "      <td>NaN</td>\n",
       "      <td>NaN</td>\n",
       "      <td>2018.0</td>\n",
       "      <td>NaN</td>\n",
       "    </tr>\n",
       "    <tr>\n",
       "      <th>1</th>\n",
       "      <td>AFE</td>\n",
       "      <td>Africa Eastern and Southern</td>\n",
       "      <td>Africa Eastern and Southern</td>\n",
       "      <td>Africa Eastern and Southern</td>\n",
       "      <td>ZH</td>\n",
       "      <td>NaN</td>\n",
       "      <td>26 countries, stretching from the Red Sea in t...</td>\n",
       "      <td>NaN</td>\n",
       "      <td>NaN</td>\n",
       "      <td>ZH</td>\n",
       "      <td>...</td>\n",
       "      <td>NaN</td>\n",
       "      <td>NaN</td>\n",
       "      <td>NaN</td>\n",
       "      <td>NaN</td>\n",
       "      <td>NaN</td>\n",
       "      <td>NaN</td>\n",
       "      <td>NaN</td>\n",
       "      <td>NaN</td>\n",
       "      <td>NaN</td>\n",
       "      <td>NaN</td>\n",
       "    </tr>\n",
       "    <tr>\n",
       "      <th>2</th>\n",
       "      <td>AFG</td>\n",
       "      <td>Afghanistan</td>\n",
       "      <td>Afghanistan</td>\n",
       "      <td>Islamic State of Afghanistan</td>\n",
       "      <td>AF</td>\n",
       "      <td>Afghan afghani</td>\n",
       "      <td>The reporting period for national accounts dat...</td>\n",
       "      <td>South Asia</td>\n",
       "      <td>Low income</td>\n",
       "      <td>AF</td>\n",
       "      <td>...</td>\n",
       "      <td>Consolidated central government</td>\n",
       "      <td>Enhanced General Data Dissemination System (e-...</td>\n",
       "      <td>1979</td>\n",
       "      <td>Demographic and Health Survey, 2015</td>\n",
       "      <td>Integrated household survey (IHS), 2016/17</td>\n",
       "      <td>NaN</td>\n",
       "      <td>NaN</td>\n",
       "      <td>NaN</td>\n",
       "      <td>2018.0</td>\n",
       "      <td>NaN</td>\n",
       "    </tr>\n",
       "    <tr>\n",
       "      <th>3</th>\n",
       "      <td>AFW</td>\n",
       "      <td>Africa Western and Central</td>\n",
       "      <td>Africa Western and Central</td>\n",
       "      <td>Africa Western and Central</td>\n",
       "      <td>ZI</td>\n",
       "      <td>NaN</td>\n",
       "      <td>22 countries, stretching from the westernmost ...</td>\n",
       "      <td>NaN</td>\n",
       "      <td>NaN</td>\n",
       "      <td>ZI</td>\n",
       "      <td>...</td>\n",
       "      <td>NaN</td>\n",
       "      <td>NaN</td>\n",
       "      <td>NaN</td>\n",
       "      <td>NaN</td>\n",
       "      <td>NaN</td>\n",
       "      <td>NaN</td>\n",
       "      <td>NaN</td>\n",
       "      <td>NaN</td>\n",
       "      <td>NaN</td>\n",
       "      <td>NaN</td>\n",
       "    </tr>\n",
       "    <tr>\n",
       "      <th>4</th>\n",
       "      <td>AGO</td>\n",
       "      <td>Angola</td>\n",
       "      <td>Angola</td>\n",
       "      <td>People's Republic of Angola</td>\n",
       "      <td>AO</td>\n",
       "      <td>Angolan kwanza</td>\n",
       "      <td>NaN</td>\n",
       "      <td>Sub-Saharan Africa</td>\n",
       "      <td>Lower middle income</td>\n",
       "      <td>AO</td>\n",
       "      <td>...</td>\n",
       "      <td>Budgetary central government</td>\n",
       "      <td>Enhanced General Data Dissemination System (e-...</td>\n",
       "      <td>2014</td>\n",
       "      <td>Demographic and Health Survey, 2015/16</td>\n",
       "      <td>Integrated household survey (IHS), 2008/09</td>\n",
       "      <td>NaN</td>\n",
       "      <td>NaN</td>\n",
       "      <td>NaN</td>\n",
       "      <td>2018.0</td>\n",
       "      <td>NaN</td>\n",
       "    </tr>\n",
       "  </tbody>\n",
       "</table>\n",
       "<p>5 rows × 31 columns</p>\n",
       "</div>"
      ],
      "text/plain": [
       "  Country Code                   Short Name                   Table Name  \\\n",
       "0          ABW                        Aruba                        Aruba   \n",
       "1          AFE  Africa Eastern and Southern  Africa Eastern and Southern   \n",
       "2          AFG                  Afghanistan                  Afghanistan   \n",
       "3          AFW   Africa Western and Central   Africa Western and Central   \n",
       "4          AGO                       Angola                       Angola   \n",
       "\n",
       "                      Long Name 2-alpha code   Currency Unit  \\\n",
       "0                         Aruba           AW   Aruban florin   \n",
       "1   Africa Eastern and Southern           ZH             NaN   \n",
       "2  Islamic State of Afghanistan           AF  Afghan afghani   \n",
       "3    Africa Western and Central           ZI             NaN   \n",
       "4   People's Republic of Angola           AO  Angolan kwanza   \n",
       "\n",
       "                                       Special Notes  \\\n",
       "0                                                NaN   \n",
       "1  26 countries, stretching from the Red Sea in t...   \n",
       "2  The reporting period for national accounts dat...   \n",
       "3  22 countries, stretching from the westernmost ...   \n",
       "4                                                NaN   \n",
       "\n",
       "                      Region         Income Group WB-2 code  ...  \\\n",
       "0  Latin America & Caribbean          High income        AW  ...   \n",
       "1                        NaN                  NaN        ZH  ...   \n",
       "2                 South Asia           Low income        AF  ...   \n",
       "3                        NaN                  NaN        ZI  ...   \n",
       "4         Sub-Saharan Africa  Lower middle income        AO  ...   \n",
       "\n",
       "     Government Accounting concept  \\\n",
       "0                              NaN   \n",
       "1                              NaN   \n",
       "2  Consolidated central government   \n",
       "3                              NaN   \n",
       "4     Budgetary central government   \n",
       "\n",
       "                     IMF data dissemination standard Latest population census  \\\n",
       "0  Enhanced General Data Dissemination System (e-...          2020 (expected)   \n",
       "1                                                NaN                      NaN   \n",
       "2  Enhanced General Data Dissemination System (e-...                     1979   \n",
       "3                                                NaN                      NaN   \n",
       "4  Enhanced General Data Dissemination System (e-...                     2014   \n",
       "\n",
       "                  Latest household survey  \\\n",
       "0                                     NaN   \n",
       "1                                     NaN   \n",
       "2     Demographic and Health Survey, 2015   \n",
       "3                                     NaN   \n",
       "4  Demographic and Health Survey, 2015/16   \n",
       "\n",
       "  Source of most recent Income and expenditure data  \\\n",
       "0                                               NaN   \n",
       "1                                               NaN   \n",
       "2        Integrated household survey (IHS), 2016/17   \n",
       "3                                               NaN   \n",
       "4        Integrated household survey (IHS), 2008/09   \n",
       "\n",
       "  Vital registration complete  Latest agricultural census  \\\n",
       "0                         Yes                         NaN   \n",
       "1                         NaN                         NaN   \n",
       "2                         NaN                         NaN   \n",
       "3                         NaN                         NaN   \n",
       "4                         NaN                         NaN   \n",
       "\n",
       "   Latest industrial data Latest trade data Unnamed: 30  \n",
       "0                     NaN            2018.0         NaN  \n",
       "1                     NaN               NaN         NaN  \n",
       "2                     NaN            2018.0         NaN  \n",
       "3                     NaN               NaN         NaN  \n",
       "4                     NaN            2018.0         NaN  \n",
       "\n",
       "[5 rows x 31 columns]"
      ]
     },
     "execution_count": 3,
     "metadata": {},
     "output_type": "execute_result"
    }
   ],
   "source": [
    "df_countries = pd.read_csv(BASE_PATH_WB + 'WDICountry.csv')\n",
    "df_countries.head()"
   ]
  },
  {
   "cell_type": "code",
   "execution_count": 4,
   "id": "1fadb5c6-2fe2-42bc-aaa4-8a43468ca4fa",
   "metadata": {},
   "outputs": [
    {
     "data": {
      "text/html": [
       "<div>\n",
       "<style scoped>\n",
       "    .dataframe tbody tr th:only-of-type {\n",
       "        vertical-align: middle;\n",
       "    }\n",
       "\n",
       "    .dataframe tbody tr th {\n",
       "        vertical-align: top;\n",
       "    }\n",
       "\n",
       "    .dataframe thead th {\n",
       "        text-align: right;\n",
       "    }\n",
       "</style>\n",
       "<table border=\"1\" class=\"dataframe\">\n",
       "  <thead>\n",
       "    <tr style=\"text-align: right;\">\n",
       "      <th></th>\n",
       "      <th>Country Name</th>\n",
       "      <th>Country Code</th>\n",
       "      <th>Indicator Name</th>\n",
       "      <th>Indicator Code</th>\n",
       "      <th>1960</th>\n",
       "      <th>1961</th>\n",
       "      <th>1962</th>\n",
       "      <th>1963</th>\n",
       "      <th>1964</th>\n",
       "      <th>1965</th>\n",
       "      <th>...</th>\n",
       "      <th>2012</th>\n",
       "      <th>2013</th>\n",
       "      <th>2014</th>\n",
       "      <th>2015</th>\n",
       "      <th>2016</th>\n",
       "      <th>2017</th>\n",
       "      <th>2018</th>\n",
       "      <th>2019</th>\n",
       "      <th>2020</th>\n",
       "      <th>2021</th>\n",
       "    </tr>\n",
       "  </thead>\n",
       "  <tbody>\n",
       "    <tr>\n",
       "      <th>0</th>\n",
       "      <td>Africa Eastern and Southern</td>\n",
       "      <td>AFE</td>\n",
       "      <td>Access to clean fuels and technologies for coo...</td>\n",
       "      <td>EG.CFT.ACCS.ZS</td>\n",
       "      <td>NaN</td>\n",
       "      <td>NaN</td>\n",
       "      <td>NaN</td>\n",
       "      <td>NaN</td>\n",
       "      <td>NaN</td>\n",
       "      <td>NaN</td>\n",
       "      <td>...</td>\n",
       "      <td>16.559819</td>\n",
       "      <td>16.936004</td>\n",
       "      <td>17.337896</td>\n",
       "      <td>17.687092</td>\n",
       "      <td>18.140971</td>\n",
       "      <td>18.491344</td>\n",
       "      <td>18.825520</td>\n",
       "      <td>19.272212</td>\n",
       "      <td>19.628009</td>\n",
       "      <td>NaN</td>\n",
       "    </tr>\n",
       "    <tr>\n",
       "      <th>1</th>\n",
       "      <td>Africa Eastern and Southern</td>\n",
       "      <td>AFE</td>\n",
       "      <td>Access to clean fuels and technologies for coo...</td>\n",
       "      <td>EG.CFT.ACCS.RU.ZS</td>\n",
       "      <td>NaN</td>\n",
       "      <td>NaN</td>\n",
       "      <td>NaN</td>\n",
       "      <td>NaN</td>\n",
       "      <td>NaN</td>\n",
       "      <td>NaN</td>\n",
       "      <td>...</td>\n",
       "      <td>6.281667</td>\n",
       "      <td>6.499471</td>\n",
       "      <td>6.680066</td>\n",
       "      <td>6.859110</td>\n",
       "      <td>7.016238</td>\n",
       "      <td>7.180364</td>\n",
       "      <td>7.322294</td>\n",
       "      <td>7.517191</td>\n",
       "      <td>7.651598</td>\n",
       "      <td>NaN</td>\n",
       "    </tr>\n",
       "    <tr>\n",
       "      <th>2</th>\n",
       "      <td>Africa Eastern and Southern</td>\n",
       "      <td>AFE</td>\n",
       "      <td>Access to clean fuels and technologies for coo...</td>\n",
       "      <td>EG.CFT.ACCS.UR.ZS</td>\n",
       "      <td>NaN</td>\n",
       "      <td>NaN</td>\n",
       "      <td>NaN</td>\n",
       "      <td>NaN</td>\n",
       "      <td>NaN</td>\n",
       "      <td>NaN</td>\n",
       "      <td>...</td>\n",
       "      <td>37.601816</td>\n",
       "      <td>37.855399</td>\n",
       "      <td>38.046781</td>\n",
       "      <td>38.326255</td>\n",
       "      <td>38.468426</td>\n",
       "      <td>38.670044</td>\n",
       "      <td>38.722783</td>\n",
       "      <td>38.927016</td>\n",
       "      <td>39.042839</td>\n",
       "      <td>NaN</td>\n",
       "    </tr>\n",
       "    <tr>\n",
       "      <th>3</th>\n",
       "      <td>Africa Eastern and Southern</td>\n",
       "      <td>AFE</td>\n",
       "      <td>Access to electricity (% of population)</td>\n",
       "      <td>EG.ELC.ACCS.ZS</td>\n",
       "      <td>NaN</td>\n",
       "      <td>NaN</td>\n",
       "      <td>NaN</td>\n",
       "      <td>NaN</td>\n",
       "      <td>NaN</td>\n",
       "      <td>NaN</td>\n",
       "      <td>...</td>\n",
       "      <td>31.844384</td>\n",
       "      <td>31.794160</td>\n",
       "      <td>32.001027</td>\n",
       "      <td>33.871910</td>\n",
       "      <td>38.880173</td>\n",
       "      <td>40.261358</td>\n",
       "      <td>43.061877</td>\n",
       "      <td>44.270860</td>\n",
       "      <td>45.803485</td>\n",
       "      <td>NaN</td>\n",
       "    </tr>\n",
       "    <tr>\n",
       "      <th>4</th>\n",
       "      <td>Africa Eastern and Southern</td>\n",
       "      <td>AFE</td>\n",
       "      <td>Access to electricity, rural (% of rural popul...</td>\n",
       "      <td>EG.ELC.ACCS.RU.ZS</td>\n",
       "      <td>NaN</td>\n",
       "      <td>NaN</td>\n",
       "      <td>NaN</td>\n",
       "      <td>NaN</td>\n",
       "      <td>NaN</td>\n",
       "      <td>NaN</td>\n",
       "      <td>...</td>\n",
       "      <td>19.402592</td>\n",
       "      <td>18.663502</td>\n",
       "      <td>17.633986</td>\n",
       "      <td>16.464681</td>\n",
       "      <td>24.531436</td>\n",
       "      <td>25.345111</td>\n",
       "      <td>27.449908</td>\n",
       "      <td>29.641760</td>\n",
       "      <td>30.404935</td>\n",
       "      <td>NaN</td>\n",
       "    </tr>\n",
       "  </tbody>\n",
       "</table>\n",
       "<p>5 rows × 66 columns</p>\n",
       "</div>"
      ],
      "text/plain": [
       "                  Country Name Country Code  \\\n",
       "0  Africa Eastern and Southern          AFE   \n",
       "1  Africa Eastern and Southern          AFE   \n",
       "2  Africa Eastern and Southern          AFE   \n",
       "3  Africa Eastern and Southern          AFE   \n",
       "4  Africa Eastern and Southern          AFE   \n",
       "\n",
       "                                      Indicator Name     Indicator Code  1960  \\\n",
       "0  Access to clean fuels and technologies for coo...     EG.CFT.ACCS.ZS   NaN   \n",
       "1  Access to clean fuels and technologies for coo...  EG.CFT.ACCS.RU.ZS   NaN   \n",
       "2  Access to clean fuels and technologies for coo...  EG.CFT.ACCS.UR.ZS   NaN   \n",
       "3            Access to electricity (% of population)     EG.ELC.ACCS.ZS   NaN   \n",
       "4  Access to electricity, rural (% of rural popul...  EG.ELC.ACCS.RU.ZS   NaN   \n",
       "\n",
       "   1961  1962  1963  1964  1965  ...       2012       2013       2014  \\\n",
       "0   NaN   NaN   NaN   NaN   NaN  ...  16.559819  16.936004  17.337896   \n",
       "1   NaN   NaN   NaN   NaN   NaN  ...   6.281667   6.499471   6.680066   \n",
       "2   NaN   NaN   NaN   NaN   NaN  ...  37.601816  37.855399  38.046781   \n",
       "3   NaN   NaN   NaN   NaN   NaN  ...  31.844384  31.794160  32.001027   \n",
       "4   NaN   NaN   NaN   NaN   NaN  ...  19.402592  18.663502  17.633986   \n",
       "\n",
       "        2015       2016       2017       2018       2019       2020  2021  \n",
       "0  17.687092  18.140971  18.491344  18.825520  19.272212  19.628009   NaN  \n",
       "1   6.859110   7.016238   7.180364   7.322294   7.517191   7.651598   NaN  \n",
       "2  38.326255  38.468426  38.670044  38.722783  38.927016  39.042839   NaN  \n",
       "3  33.871910  38.880173  40.261358  43.061877  44.270860  45.803485   NaN  \n",
       "4  16.464681  24.531436  25.345111  27.449908  29.641760  30.404935   NaN  \n",
       "\n",
       "[5 rows x 66 columns]"
      ]
     },
     "execution_count": 4,
     "metadata": {},
     "output_type": "execute_result"
    }
   ],
   "source": [
    "df_statistic = pd.read_csv(BASE_PATH_WB + 'WDIData.csv')\n",
    "df_statistic.head()"
   ]
  },
  {
   "cell_type": "code",
   "execution_count": 5,
   "id": "d91be28d-5f6a-412b-b7cf-e0aead0a52c9",
   "metadata": {},
   "outputs": [
    {
     "data": {
      "text/html": [
       "<div>\n",
       "<style scoped>\n",
       "    .dataframe tbody tr th:only-of-type {\n",
       "        vertical-align: middle;\n",
       "    }\n",
       "\n",
       "    .dataframe tbody tr th {\n",
       "        vertical-align: top;\n",
       "    }\n",
       "\n",
       "    .dataframe thead th {\n",
       "        text-align: right;\n",
       "    }\n",
       "</style>\n",
       "<table border=\"1\" class=\"dataframe\">\n",
       "  <thead>\n",
       "    <tr style=\"text-align: right;\">\n",
       "      <th></th>\n",
       "      <th>Date</th>\n",
       "      <th>Country Code</th>\n",
       "      <th>7 Day Avg New Confirmed</th>\n",
       "      <th>7 Day Avg New Deaths</th>\n",
       "      <th>7 Day Avg Fatality Ratio</th>\n",
       "    </tr>\n",
       "  </thead>\n",
       "  <tbody>\n",
       "    <tr>\n",
       "      <th>0</th>\n",
       "      <td>2020-04-27</td>\n",
       "      <td>AFG</td>\n",
       "      <td>143.714286</td>\n",
       "      <td>3.285714</td>\n",
       "      <td>0.031625</td>\n",
       "    </tr>\n",
       "    <tr>\n",
       "      <th>1</th>\n",
       "      <td>2020-05-04</td>\n",
       "      <td>AFG</td>\n",
       "      <td>276.142857</td>\n",
       "      <td>6.714286</td>\n",
       "      <td>0.029203</td>\n",
       "    </tr>\n",
       "    <tr>\n",
       "      <th>2</th>\n",
       "      <td>2020-05-11</td>\n",
       "      <td>AFG</td>\n",
       "      <td>319.000000</td>\n",
       "      <td>7.142857</td>\n",
       "      <td>0.025618</td>\n",
       "    </tr>\n",
       "    <tr>\n",
       "      <th>3</th>\n",
       "      <td>2020-05-18</td>\n",
       "      <td>AFG</td>\n",
       "      <td>576.142857</td>\n",
       "      <td>7.571429</td>\n",
       "      <td>0.022492</td>\n",
       "    </tr>\n",
       "    <tr>\n",
       "      <th>4</th>\n",
       "      <td>2020-05-25</td>\n",
       "      <td>AFG</td>\n",
       "      <td>644.571429</td>\n",
       "      <td>4.571429</td>\n",
       "      <td>0.018243</td>\n",
       "    </tr>\n",
       "    <tr>\n",
       "      <th>...</th>\n",
       "      <td>...</td>\n",
       "      <td>...</td>\n",
       "      <td>...</td>\n",
       "      <td>...</td>\n",
       "      <td>...</td>\n",
       "    </tr>\n",
       "    <tr>\n",
       "      <th>19615</th>\n",
       "      <td>2022-04-25</td>\n",
       "      <td>ZWE</td>\n",
       "      <td>55.285714</td>\n",
       "      <td>0.142857</td>\n",
       "      <td>0.022072</td>\n",
       "    </tr>\n",
       "    <tr>\n",
       "      <th>19616</th>\n",
       "      <td>2022-05-02</td>\n",
       "      <td>ZWE</td>\n",
       "      <td>63.000000</td>\n",
       "      <td>1.000000</td>\n",
       "      <td>0.022054</td>\n",
       "    </tr>\n",
       "    <tr>\n",
       "      <th>19617</th>\n",
       "      <td>2022-05-09</td>\n",
       "      <td>ZWE</td>\n",
       "      <td>122.000000</td>\n",
       "      <td>0.857143</td>\n",
       "      <td>0.022021</td>\n",
       "    </tr>\n",
       "    <tr>\n",
       "      <th>19618</th>\n",
       "      <td>2022-05-16</td>\n",
       "      <td>ZWE</td>\n",
       "      <td>288.857143</td>\n",
       "      <td>2.000000</td>\n",
       "      <td>0.021932</td>\n",
       "    </tr>\n",
       "    <tr>\n",
       "      <th>19619</th>\n",
       "      <td>2022-05-23</td>\n",
       "      <td>ZWE</td>\n",
       "      <td>198.571429</td>\n",
       "      <td>0.714286</td>\n",
       "      <td>0.021860</td>\n",
       "    </tr>\n",
       "  </tbody>\n",
       "</table>\n",
       "<p>19620 rows × 5 columns</p>\n",
       "</div>"
      ],
      "text/plain": [
       "            Date Country Code  7 Day Avg New Confirmed  7 Day Avg New Deaths  \\\n",
       "0     2020-04-27          AFG               143.714286              3.285714   \n",
       "1     2020-05-04          AFG               276.142857              6.714286   \n",
       "2     2020-05-11          AFG               319.000000              7.142857   \n",
       "3     2020-05-18          AFG               576.142857              7.571429   \n",
       "4     2020-05-25          AFG               644.571429              4.571429   \n",
       "...          ...          ...                      ...                   ...   \n",
       "19615 2022-04-25          ZWE                55.285714              0.142857   \n",
       "19616 2022-05-02          ZWE                63.000000              1.000000   \n",
       "19617 2022-05-09          ZWE               122.000000              0.857143   \n",
       "19618 2022-05-16          ZWE               288.857143              2.000000   \n",
       "19619 2022-05-23          ZWE               198.571429              0.714286   \n",
       "\n",
       "       7 Day Avg Fatality Ratio  \n",
       "0                      0.031625  \n",
       "1                      0.029203  \n",
       "2                      0.025618  \n",
       "3                      0.022492  \n",
       "4                      0.018243  \n",
       "...                         ...  \n",
       "19615                  0.022072  \n",
       "19616                  0.022054  \n",
       "19617                  0.022021  \n",
       "19618                  0.021932  \n",
       "19619                  0.021860  \n",
       "\n",
       "[19620 rows x 5 columns]"
      ]
     },
     "execution_count": 5,
     "metadata": {},
     "output_type": "execute_result"
    }
   ],
   "source": [
    "df_data = pd.read_csv(BASE_PATH_OUT + 'covid_data_v5.csv')\n",
    "df_data['Date']= pd.to_datetime(df_data['Date'])\n",
    "df_data"
   ]
  },
  {
   "cell_type": "code",
   "execution_count": 6,
   "id": "e0307421-ab5b-42aa-b6cc-9e7947cb4f97",
   "metadata": {},
   "outputs": [
    {
     "data": {
      "text/plain": [
       "array(['AFG', 'AGO', 'ALB', 'AND', 'ARE', 'ARG', 'ARM', 'ATG', 'AUS',\n",
       "       'AUT', 'AZE', 'BDI', 'BEL', 'BEN', 'BFA', 'BGD', 'BGR', 'BHR',\n",
       "       'BHS', 'BIH', 'BLR', 'BLZ', 'BOL', 'BRA', 'BRB', 'BRN', 'BTN',\n",
       "       'BWA', 'CAF', 'CAN', 'CHE', 'CHL', 'CHN', 'CIV', 'CMR', 'COD',\n",
       "       'COG', 'COL', 'CPV', 'CRI', 'CUB', 'CYP', 'CZE', 'DEU', 'DJI',\n",
       "       'DMA', 'DNK', 'DOM', 'DZA', 'ECU', 'EGY', 'ERI', 'ESP', 'EST',\n",
       "       'ETH', 'FIN', 'FJI', 'FRA', 'GAB', 'GBR', 'GEO', 'GHA', 'GIN',\n",
       "       'GMB', 'GNB', 'GNQ', 'GRC', 'GRD', 'GTM', 'GUY', 'HND', 'HRV',\n",
       "       'HTI', 'HUN', 'IDN', 'IND', 'IRL', 'IRN', 'IRQ', 'ISL', 'ISR',\n",
       "       'ITA', 'JAM', 'JOR', 'JPN', 'KAZ', 'KEN', 'KGZ', 'KHM', 'KIR',\n",
       "       'KOR', 'KWT', 'LAO', 'LBN', 'LBR', 'LBY', 'LIE', 'LKA', 'LTU',\n",
       "       'LUX', 'LVA', 'MAR', 'MCO', 'MDA', 'MDG', 'MDV', 'MEX', 'MKD',\n",
       "       'MLI', 'MLT', 'MMR', 'MNE', 'MNG', 'MOZ', 'MRT', 'MUS', 'MWI',\n",
       "       'MYS', 'NAM', 'NER', 'NGA', 'NIC', 'NLD', 'NOR', 'NPL', 'NZL',\n",
       "       'OMN', 'PAK', 'PAN', 'PER', 'PHL', 'PLW', 'PNG', 'POL', 'PRT',\n",
       "       'PRY', 'PSE', 'QAT', 'ROU', 'RUS', 'RWA', 'SAU', 'SDN', 'SEN',\n",
       "       'SGP', 'SLE', 'SLV', 'SMR', 'SOM', 'SRB', 'SSD', 'SUR', 'SVK',\n",
       "       'SVN', 'SWE', 'SWZ', 'SYC', 'SYR', 'TCD', 'TGO', 'THA', 'TLS',\n",
       "       'TON', 'TTO', 'TUN', 'TUR', 'TZA', 'UGA', 'UKR', 'URY', 'USA',\n",
       "       'UZB', 'VEN', 'VNM', 'WSM', 'XKX', 'YEM', 'ZAF', 'ZMB', 'ZWE'],\n",
       "      dtype=object)"
      ]
     },
     "execution_count": 6,
     "metadata": {},
     "output_type": "execute_result"
    }
   ],
   "source": [
    "country_map_by_code = {}\n",
    "country_code_list = df_data['Country Code'].unique()\n",
    "country_code_list"
   ]
  },
  {
   "cell_type": "code",
   "execution_count": 7,
   "id": "f1ce19a6-bc92-4b72-bb8e-a94f5e572939",
   "metadata": {},
   "outputs": [
    {
     "data": {
      "text/plain": [
       "1445"
      ]
     },
     "execution_count": 7,
     "metadata": {},
     "output_type": "execute_result"
    }
   ],
   "source": [
    "len(df_statistic['Indicator Name'].unique())"
   ]
  },
  {
   "cell_type": "code",
   "execution_count": 8,
   "id": "7429b183-bcdf-469a-8f14-8b0ed19e3078",
   "metadata": {},
   "outputs": [
    {
     "data": {
      "text/plain": [
       "[1980, 1985, 1990, 1995, 2000, 2005, 2010, 2015, 2020]"
      ]
     },
     "execution_count": 8,
     "metadata": {},
     "output_type": "execute_result"
    }
   ],
   "source": [
    "selected_years = list(range(1980, 2021, 5))\n",
    "NUM_OF_YEARS = len(selected_years)\n",
    "selected_years"
   ]
  },
  {
   "cell_type": "markdown",
   "id": "e3655304-a4c2-471e-bd8e-247dd85538ca",
   "metadata": {},
   "source": [
    "### 5.1 Prepare Columns\n",
    "\n",
    "#### 5.1.1 Country Name, Country Code, Years"
   ]
  },
  {
   "cell_type": "code",
   "execution_count": 9,
   "id": "f8fb35d4-d675-4f16-8175-de28d662f9c5",
   "metadata": {},
   "outputs": [
    {
     "name": "stdout",
     "output_type": "stream",
     "text": [
      "1620\n"
     ]
    }
   ],
   "source": [
    "col_country_names = []\n",
    "\n",
    "for i in range(len(country_code_list)):\n",
    "    current_country = country_code_list[i]\n",
    "    df_filtered = df_countries[df_countries['Country Code'] == current_country]\n",
    "    \n",
    "    for j in range(len(selected_years)):\n",
    "        col_country_names.append(df_filtered.iloc[0]['Short Name'])\n",
    "    \n",
    "print(len(col_country_names))"
   ]
  },
  {
   "cell_type": "code",
   "execution_count": 10,
   "id": "5c9f9fdd-dc80-4a1e-8698-37072fbd1146",
   "metadata": {},
   "outputs": [
    {
     "name": "stdout",
     "output_type": "stream",
     "text": [
      "1620\n"
     ]
    }
   ],
   "source": [
    "col_country_codes = []\n",
    "\n",
    "for i in range(len(country_code_list)):\n",
    "    current_country = country_code_list[i]\n",
    "    \n",
    "    for j in range(len(selected_years)):\n",
    "        col_country_codes.append(current_country)\n",
    "    \n",
    "print(len(col_country_codes))"
   ]
  },
  {
   "cell_type": "code",
   "execution_count": 11,
   "id": "e7d257e5-c23d-4d66-9493-abfd7ab923db",
   "metadata": {},
   "outputs": [
    {
     "name": "stdout",
     "output_type": "stream",
     "text": [
      "1620\n"
     ]
    }
   ],
   "source": [
    "col_years = []\n",
    "\n",
    "for i in range(len(country_code_list)):\n",
    "    for j in range(len(selected_years)):\n",
    "        col_years.append(selected_years[j])\n",
    "    \n",
    "print(len(col_years))\n",
    "# col_years"
   ]
  },
  {
   "cell_type": "markdown",
   "id": "b73aa68e-799a-49b1-bbea-112d0e79df65",
   "metadata": {},
   "source": [
    "#### 5.1.2 Life expectancy at birth, total (years)\n",
    "\n",
    "__SP.DYN.LE00.IN__"
   ]
  },
  {
   "cell_type": "code",
   "execution_count": 12,
   "id": "0be16865-7607-44e2-b65c-178db431a6d6",
   "metadata": {},
   "outputs": [
    {
     "name": "stdout",
     "output_type": "stream",
     "text": [
      "Empty DataFrame\n",
      "Columns: [Country Name, Country Code, Indicator Name, Indicator Code, 1960, 1961, 1962, 1963, 1964, 1965, 1966, 1967, 1968, 1969, 1970, 1971, 1972, 1973, 1974, 1975, 1976, 1977, 1978, 1979, 1980, 1981, 1982, 1983, 1984, 1985, 1986, 1987, 1988, 1989, 1990, 1991, 1992, 1993, 1994, 1995, 1996, 1997, 1998, 1999, 2000, 2001, 2002, 2003, 2004, 2005, 2006, 2007, 2008, 2009, 2010, 2011, 2012, 2013, 2014, 2015, 2016, 2017, 2018, 2019, 2020, 2021]\n",
      "Index: []\n",
      "\n",
      "[0 rows x 66 columns]\n"
     ]
    },
    {
     "ename": "IndexError",
     "evalue": "single positional indexer is out-of-bounds",
     "output_type": "error",
     "traceback": [
      "\u001b[0;31m---------------------------------------------------------------------------\u001b[0m",
      "\u001b[0;31mIndexError\u001b[0m                                Traceback (most recent call last)",
      "\u001b[0;32m<ipython-input-12-dac41f48e57f>\u001b[0m in \u001b[0;36m<module>\u001b[0;34m\u001b[0m\n\u001b[1;32m      2\u001b[0m \u001b[0mprint\u001b[0m\u001b[0;34m(\u001b[0m\u001b[0mdf_filtered\u001b[0m\u001b[0;34m)\u001b[0m\u001b[0;34m\u001b[0m\u001b[0;34m\u001b[0m\u001b[0m\n\u001b[1;32m      3\u001b[0m \u001b[0;32mfor\u001b[0m \u001b[0mj\u001b[0m \u001b[0;32min\u001b[0m \u001b[0mrange\u001b[0m\u001b[0;34m(\u001b[0m\u001b[0mlen\u001b[0m\u001b[0;34m(\u001b[0m\u001b[0mselected_years\u001b[0m\u001b[0;34m)\u001b[0m\u001b[0;34m)\u001b[0m\u001b[0;34m:\u001b[0m\u001b[0;34m\u001b[0m\u001b[0;34m\u001b[0m\u001b[0m\n\u001b[0;32m----> 4\u001b[0;31m     \u001b[0mprint\u001b[0m\u001b[0;34m(\u001b[0m\u001b[0mdf_filtered\u001b[0m\u001b[0;34m.\u001b[0m\u001b[0miloc\u001b[0m\u001b[0;34m[\u001b[0m\u001b[0;36m0\u001b[0m\u001b[0;34m]\u001b[0m\u001b[0;34m[\u001b[0m\u001b[0mstr\u001b[0m\u001b[0;34m(\u001b[0m\u001b[0mselected_years\u001b[0m\u001b[0;34m[\u001b[0m\u001b[0mj\u001b[0m\u001b[0;34m]\u001b[0m\u001b[0;34m)\u001b[0m\u001b[0;34m]\u001b[0m\u001b[0;34m)\u001b[0m\u001b[0;34m\u001b[0m\u001b[0;34m\u001b[0m\u001b[0m\n\u001b[0m",
      "\u001b[0;32m~/opt/miniconda3/envs/pt18/lib/python3.8/site-packages/pandas/core/indexing.py\u001b[0m in \u001b[0;36m__getitem__\u001b[0;34m(self, key)\u001b[0m\n\u001b[1;32m    893\u001b[0m \u001b[0;34m\u001b[0m\u001b[0m\n\u001b[1;32m    894\u001b[0m             \u001b[0mmaybe_callable\u001b[0m \u001b[0;34m=\u001b[0m \u001b[0mcom\u001b[0m\u001b[0;34m.\u001b[0m\u001b[0mapply_if_callable\u001b[0m\u001b[0;34m(\u001b[0m\u001b[0mkey\u001b[0m\u001b[0;34m,\u001b[0m \u001b[0mself\u001b[0m\u001b[0;34m.\u001b[0m\u001b[0mobj\u001b[0m\u001b[0;34m)\u001b[0m\u001b[0;34m\u001b[0m\u001b[0;34m\u001b[0m\u001b[0m\n\u001b[0;32m--> 895\u001b[0;31m             \u001b[0;32mreturn\u001b[0m \u001b[0mself\u001b[0m\u001b[0;34m.\u001b[0m\u001b[0m_getitem_axis\u001b[0m\u001b[0;34m(\u001b[0m\u001b[0mmaybe_callable\u001b[0m\u001b[0;34m,\u001b[0m \u001b[0maxis\u001b[0m\u001b[0;34m=\u001b[0m\u001b[0maxis\u001b[0m\u001b[0;34m)\u001b[0m\u001b[0;34m\u001b[0m\u001b[0;34m\u001b[0m\u001b[0m\n\u001b[0m\u001b[1;32m    896\u001b[0m \u001b[0;34m\u001b[0m\u001b[0m\n\u001b[1;32m    897\u001b[0m     \u001b[0;32mdef\u001b[0m \u001b[0m_is_scalar_access\u001b[0m\u001b[0;34m(\u001b[0m\u001b[0mself\u001b[0m\u001b[0;34m,\u001b[0m \u001b[0mkey\u001b[0m\u001b[0;34m:\u001b[0m \u001b[0mTuple\u001b[0m\u001b[0;34m)\u001b[0m\u001b[0;34m:\u001b[0m\u001b[0;34m\u001b[0m\u001b[0;34m\u001b[0m\u001b[0m\n",
      "\u001b[0;32m~/opt/miniconda3/envs/pt18/lib/python3.8/site-packages/pandas/core/indexing.py\u001b[0m in \u001b[0;36m_getitem_axis\u001b[0;34m(self, key, axis)\u001b[0m\n\u001b[1;32m   1499\u001b[0m \u001b[0;34m\u001b[0m\u001b[0m\n\u001b[1;32m   1500\u001b[0m             \u001b[0;31m# validate the location\u001b[0m\u001b[0;34m\u001b[0m\u001b[0;34m\u001b[0m\u001b[0;34m\u001b[0m\u001b[0m\n\u001b[0;32m-> 1501\u001b[0;31m             \u001b[0mself\u001b[0m\u001b[0;34m.\u001b[0m\u001b[0m_validate_integer\u001b[0m\u001b[0;34m(\u001b[0m\u001b[0mkey\u001b[0m\u001b[0;34m,\u001b[0m \u001b[0maxis\u001b[0m\u001b[0;34m)\u001b[0m\u001b[0;34m\u001b[0m\u001b[0;34m\u001b[0m\u001b[0m\n\u001b[0m\u001b[1;32m   1502\u001b[0m \u001b[0;34m\u001b[0m\u001b[0m\n\u001b[1;32m   1503\u001b[0m             \u001b[0;32mreturn\u001b[0m \u001b[0mself\u001b[0m\u001b[0;34m.\u001b[0m\u001b[0mobj\u001b[0m\u001b[0;34m.\u001b[0m\u001b[0m_ixs\u001b[0m\u001b[0;34m(\u001b[0m\u001b[0mkey\u001b[0m\u001b[0;34m,\u001b[0m \u001b[0maxis\u001b[0m\u001b[0;34m=\u001b[0m\u001b[0maxis\u001b[0m\u001b[0;34m)\u001b[0m\u001b[0;34m\u001b[0m\u001b[0;34m\u001b[0m\u001b[0m\n",
      "\u001b[0;32m~/opt/miniconda3/envs/pt18/lib/python3.8/site-packages/pandas/core/indexing.py\u001b[0m in \u001b[0;36m_validate_integer\u001b[0;34m(self, key, axis)\u001b[0m\n\u001b[1;32m   1442\u001b[0m         \u001b[0mlen_axis\u001b[0m \u001b[0;34m=\u001b[0m \u001b[0mlen\u001b[0m\u001b[0;34m(\u001b[0m\u001b[0mself\u001b[0m\u001b[0;34m.\u001b[0m\u001b[0mobj\u001b[0m\u001b[0;34m.\u001b[0m\u001b[0m_get_axis\u001b[0m\u001b[0;34m(\u001b[0m\u001b[0maxis\u001b[0m\u001b[0;34m)\u001b[0m\u001b[0;34m)\u001b[0m\u001b[0;34m\u001b[0m\u001b[0;34m\u001b[0m\u001b[0m\n\u001b[1;32m   1443\u001b[0m         \u001b[0;32mif\u001b[0m \u001b[0mkey\u001b[0m \u001b[0;34m>=\u001b[0m \u001b[0mlen_axis\u001b[0m \u001b[0;32mor\u001b[0m \u001b[0mkey\u001b[0m \u001b[0;34m<\u001b[0m \u001b[0;34m-\u001b[0m\u001b[0mlen_axis\u001b[0m\u001b[0;34m:\u001b[0m\u001b[0;34m\u001b[0m\u001b[0;34m\u001b[0m\u001b[0m\n\u001b[0;32m-> 1444\u001b[0;31m             \u001b[0;32mraise\u001b[0m \u001b[0mIndexError\u001b[0m\u001b[0;34m(\u001b[0m\u001b[0;34m\"single positional indexer is out-of-bounds\"\u001b[0m\u001b[0;34m)\u001b[0m\u001b[0;34m\u001b[0m\u001b[0;34m\u001b[0m\u001b[0m\n\u001b[0m\u001b[1;32m   1445\u001b[0m \u001b[0;34m\u001b[0m\u001b[0m\n\u001b[1;32m   1446\u001b[0m     \u001b[0;31m# -------------------------------------------------------------------\u001b[0m\u001b[0;34m\u001b[0m\u001b[0;34m\u001b[0m\u001b[0;34m\u001b[0m\u001b[0m\n",
      "\u001b[0;31mIndexError\u001b[0m: single positional indexer is out-of-bounds"
     ]
    }
   ],
   "source": [
    "df_filtered = df_statistic[(df_statistic['Country Code'] == 'USA') & (df_statistic['Indicator Code'] == 'SP.DYN.LE00.IN')]\n",
    "print(df_filtered)\n",
    "for j in range(len(selected_years)):\n",
    "    print(df_filtered.iloc[0][str(selected_years[j])])\n"
   ]
  },
  {
   "cell_type": "code",
   "execution_count": null,
   "id": "324cb05d-c1ad-43ed-96d2-77b47bd6771a",
   "metadata": {},
   "outputs": [],
   "source": [
    "col_sp_dyn_le00_in = []\n",
    "current_indicator = 'SP.DYN.LE00.IN'\n",
    "\n",
    "for i in range(len(country_code_list)):\n",
    "    current_country = country_code_list[i]\n",
    "#     print('processing: {} ...'.format(current_country))\n",
    "    df_filtered = df_statistic[(df_statistic['Country Code'] == current_country) & (df_statistic['Indicator Code'] == current_indicator)]\n",
    "#     print(df_filtered)\n",
    "    \n",
    "    for j in range(len(selected_years)):\n",
    "        col_sp_dyn_le00_in.append(df_filtered.iloc[0][str(selected_years[j])])\n",
    "#         break\n",
    "\n",
    "#     break\n",
    "    \n",
    "# col_sp_dyn_le00_in\n"
   ]
  },
  {
   "cell_type": "markdown",
   "id": "f9e89b9e-7269-446b-90f6-32cc26cc6732",
   "metadata": {},
   "source": [
    "#### 5.1.3 Population, total\n",
    "\n",
    "__SP.POP.TOTL__"
   ]
  },
  {
   "cell_type": "code",
   "execution_count": null,
   "id": "46a3fe1d-dd69-4015-b5b2-8d9e0c02afe2",
   "metadata": {},
   "outputs": [],
   "source": [
    "col_sp_pop_totl = []\n",
    "current_indicator = 'SP.POP.TOTL'\n",
    "\n",
    "for i in range(len(country_code_list)):\n",
    "    current_country = country_code_list[i]\n",
    "#     print('processing: {} ...'.format(current_country))\n",
    "    df_filtered = df_statistic[(df_statistic['Country Code'] == current_country) & (df_statistic['Indicator Code'] == current_indicator)]\n",
    "#     print(df_filtered)\n",
    "    \n",
    "    for j in range(len(selected_years)):\n",
    "        col_sp_pop_totl.append(df_filtered.iloc[0][str(selected_years[j])])\n"
   ]
  },
  {
   "cell_type": "markdown",
   "id": "63e55e4e-6e8f-4e87-91d3-41f0b8582ffe",
   "metadata": {},
   "source": [
    "#### 5.1.4 Human Capital Index (HCI) (scale 0-1)\n",
    "\n",
    "__HD.HCI.OVRL__"
   ]
  },
  {
   "cell_type": "code",
   "execution_count": null,
   "id": "99cf3a2d-963b-406a-a418-1c50ed8b5523",
   "metadata": {},
   "outputs": [],
   "source": [
    "col_hd_hci_ovrl = []\n",
    "current_indicator = 'HD.HCI.OVRL'\n",
    "\n",
    "for i in range(len(country_code_list)):\n",
    "    current_country = country_code_list[i]\n",
    "#     print('processing: {} ...'.format(current_country))\n",
    "    df_filtered = df_statistic[(df_statistic['Country Code'] == current_country) & (df_statistic['Indicator Code'] == current_indicator)]\n",
    "#     print(df_filtered)\n",
    "    \n",
    "    for j in range(len(selected_years)):\n",
    "        col_hd_hci_ovrl.append(df_filtered.iloc[0][str(selected_years[j])])\n"
   ]
  },
  {
   "cell_type": "markdown",
   "id": "dc228f52-846f-4232-ae94-9060a8b38dcd",
   "metadata": {},
   "source": [
    "#### 5.1.5 GDP per capita (current US$)\n",
    "\n",
    "__NY.GDP.PCAP.CD__"
   ]
  },
  {
   "cell_type": "code",
   "execution_count": null,
   "id": "e1acd290-791b-4c0a-90f6-d9556c5d5816",
   "metadata": {},
   "outputs": [],
   "source": [
    "col_ny_gdp_mktp_cd = []\n",
    "current_indicator = 'NY.GDP.PCAP.CD'\n",
    "\n",
    "for i in range(len(country_code_list)):\n",
    "    current_country = country_code_list[i]\n",
    "#     print('processing: {} ...'.format(current_country))\n",
    "    df_filtered = df_statistic[(df_statistic['Country Code'] == current_country) & (df_statistic['Indicator Code'] == current_indicator)]\n",
    "#     print(df_filtered)\n",
    "    \n",
    "    for j in range(len(selected_years)):\n",
    "        col_ny_gdp_mktp_cd.append(df_filtered.iloc[0][str(selected_years[j])])\n"
   ]
  },
  {
   "cell_type": "markdown",
   "id": "319214fa-a079-43c7-9270-e1875dbe78af",
   "metadata": {},
   "source": [
    "#### 5.1.6 GDP growth (annual %)\n",
    "\n",
    "__NY.GDP.MKTP.KD.ZG__"
   ]
  },
  {
   "cell_type": "code",
   "execution_count": null,
   "id": "6310eb1f-5cfd-47d6-8818-3ab128c8a937",
   "metadata": {},
   "outputs": [],
   "source": [
    "col_ny_gdp_mktp_kd_zg = []\n",
    "current_indicator = 'NY.GDP.MKTP.KD.ZG'\n",
    "\n",
    "for i in range(len(country_code_list)):\n",
    "    current_country = country_code_list[i]\n",
    "#     print('processing: {} ...'.format(current_country))\n",
    "    df_filtered = df_statistic[(df_statistic['Country Code'] == current_country) & (df_statistic['Indicator Code'] == current_indicator)]\n",
    "#     print(df_filtered)\n",
    "    \n",
    "    for j in range(len(selected_years)):\n",
    "        col_ny_gdp_mktp_kd_zg.append(df_filtered.iloc[0][str(selected_years[j])])\n"
   ]
  },
  {
   "cell_type": "markdown",
   "id": "0243a98b-93d7-4018-a795-8edfcfa35d78",
   "metadata": {},
   "source": [
    "### 5.2 Generate Table"
   ]
  },
  {
   "cell_type": "code",
   "execution_count": null,
   "id": "878284b0-6d4b-47e2-8a4c-0906636575fb",
   "metadata": {},
   "outputs": [],
   "source": [
    "df_result = pd.DataFrame(col_country_names, columns=['Country Name'])\n",
    "df_result"
   ]
  },
  {
   "cell_type": "code",
   "execution_count": null,
   "id": "11ab2714-b5b6-493e-8b01-4d61a841eb08",
   "metadata": {},
   "outputs": [],
   "source": [
    "df_result['Country Code'] = col_country_codes\n",
    "df_result['Year'] = col_years\n",
    "\n",
    "df_result['SP.DYN.LE00.IN'] = col_sp_dyn_le00_in\n",
    "df_result['SP.POP.TOTL'] = col_sp_pop_totl\n",
    "# df_result['HD.HCI.OVRL'] = col_hd_hci_ovrl\n",
    "df_result['NY.GDP.PCAP.CD'] = col_ny_gdp_mktp_cd\n",
    "df_result['NY.GDP.MKTP.KD.ZG'] = col_ny_gdp_mktp_kd_zg"
   ]
  },
  {
   "cell_type": "code",
   "execution_count": null,
   "id": "518e65d2-2d6f-4066-a94d-94af3e72477d",
   "metadata": {},
   "outputs": [],
   "source": [
    "df_result = df_result.sort_values(by=[\"Country Code\", \"Year\"]).reset_index(drop=True)\n",
    "\n",
    "df_result.to_csv(BASE_PATH_OUT + \"wdi_data_v1.csv\", date_format='%m/%d/%Y', index=False)"
   ]
  },
  {
   "cell_type": "code",
   "execution_count": null,
   "id": "9dc99528-af94-48ec-ace2-384848addd6d",
   "metadata": {},
   "outputs": [],
   "source": [
    "df_result"
   ]
  },
  {
   "cell_type": "markdown",
   "id": "daaa0910-8533-4b25-a9a6-17c8928a5d8e",
   "metadata": {},
   "source": [
    "### 5.3 Validation"
   ]
  },
  {
   "cell_type": "code",
   "execution_count": null,
   "id": "d8d4743f-116c-46cb-9ccb-3c60b20b248b",
   "metadata": {},
   "outputs": [],
   "source": [
    "df_val = pd.read_csv(BASE_PATH_OUT + 'wdi_data_v1.csv')\n",
    "df_val"
   ]
  },
  {
   "cell_type": "code",
   "execution_count": null,
   "id": "d2e5bf1d-7008-4582-998d-43df05de6ccc",
   "metadata": {},
   "outputs": [],
   "source": [
    "df_val[df_val['Country Code'] == 'USA']"
   ]
  },
  {
   "cell_type": "code",
   "execution_count": null,
   "id": "9813b6c9-9734-4521-bd23-b40352ef9095",
   "metadata": {},
   "outputs": [],
   "source": [
    "df_filtered = df_statistic[(df_statistic['Country Code'] == 'GBR') & (df_statistic['Indicator Code'] == 'NY.GDP.PCAP.CD')]\n",
    "# print(df_filtered)\n",
    "for j in range(len(selected_years)):\n",
    "    print(df_filtered.iloc[0][str(selected_years[j])])\n"
   ]
  },
  {
   "cell_type": "code",
   "execution_count": null,
   "id": "1ab6f969-5b85-43a1-af8b-f3fa1247c644",
   "metadata": {},
   "outputs": [],
   "source": [
    "# !!! TEST\n",
    "df_val['SP.POP.TOTL'].max()"
   ]
  },
  {
   "cell_type": "code",
   "execution_count": null,
   "id": "47f0c253-ef3a-45e7-a8b5-e71a20c65a97",
   "metadata": {},
   "outputs": [],
   "source": [
    "df_val[df_val['Country Code'] == 'USA']['SP.DYN.LE00.IN'].max()"
   ]
  },
  {
   "cell_type": "code",
   "execution_count": null,
   "id": "68e24100-a557-40df-9c3f-4416721927fc",
   "metadata": {},
   "outputs": [],
   "source": []
  }
 ],
 "metadata": {
  "kernelspec": {
   "display_name": "pt18",
   "language": "python",
   "name": "pt18"
  },
  "language_info": {
   "codemirror_mode": {
    "name": "ipython",
    "version": 3
   },
   "file_extension": ".py",
   "mimetype": "text/x-python",
   "name": "python",
   "nbconvert_exporter": "python",
   "pygments_lexer": "ipython3",
   "version": "3.8.10"
  }
 },
 "nbformat": 4,
 "nbformat_minor": 5
}
